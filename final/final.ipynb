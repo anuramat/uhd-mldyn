{
 "cells": [
  {
   "cell_type": "code",
   "execution_count": null,
   "id": "47a57f8c",
   "metadata": {},
   "outputs": [],
   "source": [
    "from torchdyn.core import NeuralODE\n",
    "import numpy as np\n",
    "import matplotlib.pyplot as plt\n",
    "from mpl_toolkits.mplot3d import Axes3D\n",
    "import torch\n",
    "import torch.utils.data as data\n",
    "import torch.nn as nn\n",
    "import pytorch_lightning as pl"
   ]
  },
  {
   "cell_type": "code",
   "execution_count": null,
   "id": "0349681b",
   "metadata": {},
   "outputs": [],
   "source": [
    "device = torch.device(\"cuda:0\" if torch.cuda.is_available() else \"cpu\")\n",
    "print(device)"
   ]
  },
  {
   "cell_type": "code",
   "execution_count": null,
   "id": "4711f2d0",
   "metadata": {},
   "outputs": [],
   "source": [
    "def plot_l63(data, n, style=\"scatter\"):\n",
    "    x, y, z = data[:n, :].T\n",
    "    fig = plt.figure(figsize=(10, 10))\n",
    "    ax = fig.add_subplot(111, projection=\"3d\")\n",
    "    if style == \"scatter\":\n",
    "        ax.scatter(x, y, z, s=1)\n",
    "    elif style == \"line\":\n",
    "        ax.plot(x, y, z, lw=0.3)\n",
    "    else:\n",
    "        raise ValueError\n",
    "    ax.set_xlabel(\"X\")\n",
    "    ax.set_ylabel(\"Y\")\n",
    "    ax.set_zlabel(\"Z\")\n",
    "    ax.set_title(f\"L63, {n} points\")\n",
    "    plt.show()"
   ]
  },
  {
   "cell_type": "code",
   "execution_count": null,
   "id": "4bea8826",
   "metadata": {},
   "outputs": [],
   "source": [
    "def get_loader(\n",
    "    train_file: str,\n",
    "    test_file: str,\n",
    "    l63: bool,\n",
    "):\n",
    "    train = np.load(train_file)\n",
    "    test = np.load(test_file)\n",
    "    print(f\"raw data shapes -- train: {train.shape}, test: {test.shape}\")\n",
    "    X = torch.Tensor(train[:-1, :])\n",
    "    Y = torch.Tensor(train[1:, :])\n",
    "    print(f\"train shapes -- x: {X.shape}, y: {Y.shape}\")\n",
    "    if l63:\n",
    "        plot_l63(train, n=1000)\n",
    "        plot_l63(train, n=-1, style=\"line\")\n",
    "    train = data.TensorDataset(X, Y)\n",
    "    trainloader = data.DataLoader(\n",
    "        train, batch_size=len(X), shuffle=True, num_workers=31\n",
    "    )\n",
    "    return trainloader"
   ]
  },
  {
   "cell_type": "code",
   "execution_count": null,
   "id": "ef35f1d4",
   "metadata": {},
   "outputs": [],
   "source": [
    "def get_loader_l63():\n",
    "    return get_loader(\n",
    "        train_file=\"lorenz63_on0.05_train.npy\", test_file=\"lorenz63_test.npy\", l63=True\n",
    "    )"
   ]
  },
  {
   "cell_type": "code",
   "execution_count": null,
   "id": "516ca311",
   "metadata": {},
   "outputs": [],
   "source": [
    "class Learner_l63(pl.LightningModule):\n",
    "    def __init__(self, t_span: torch.Tensor, model: nn.Module):\n",
    "        super().__init__()\n",
    "        self.model, self.t_span = model, t_span\n",
    "        self.trainloader = get_loader_l63()\n",
    "\n",
    "    def forward(self, x):\n",
    "        return self.model(x)\n",
    "\n",
    "    def training_step(self, batch, batch_idx):\n",
    "        x, y = batch\n",
    "        t_eval, y_hat = self.model(x, self.t_span)\n",
    "        y_hat = y_hat[-1]  # select last point of solution trajectory\n",
    "        loss = nn.MSELoss()(y_hat, y)\n",
    "        return {\"loss\": loss}\n",
    "\n",
    "    def configure_optimizers(self):\n",
    "        return torch.optim.Adam(self.model.parameters(), lr=0.01)\n",
    "\n",
    "    def train_dataloader(self):\n",
    "        return self.trainloader"
   ]
  },
  {
   "cell_type": "code",
   "execution_count": null,
   "id": "819ea9bd",
   "metadata": {},
   "outputs": [],
   "source": [
    "def get_model_l63():\n",
    "    layers = [\n",
    "        nn.Linear(3, 64),\n",
    "        nn.ReLU(),\n",
    "        nn.Linear(64, 64),\n",
    "        nn.ReLU(),\n",
    "        nn.Linear(64, 64),\n",
    "        nn.ReLU(),\n",
    "        nn.Linear(64, 64),\n",
    "        nn.ReLU(),\n",
    "        nn.Linear(64, 3),\n",
    "    ]\n",
    "    f = nn.Sequential(*layers)\n",
    "    model = NeuralODE(\n",
    "        f,\n",
    "        sensitivity=\"adjoint\",\n",
    "        solver=\"tsit5\",\n",
    "        interpolator=None,\n",
    "        atol=1e-3,\n",
    "        rtol=1e-3,\n",
    "    ).to(device)\n",
    "    t_span = torch.linspace(0, 1, 2)  # [0,1]\n",
    "    return t_span, model"
   ]
  },
  {
   "cell_type": "code",
   "execution_count": null,
   "id": "1692a469",
   "metadata": {},
   "outputs": [],
   "source": [
    "def train():\n",
    "    learn = Learner_l63(*get_model_l63())\n",
    "    trainer = pl.Trainer(min_epochs=200, max_epochs=250)\n",
    "    trainer.fit(learn)"
   ]
  },
  {
   "cell_type": "code",
   "execution_count": null,
   "id": "841a0c50",
   "metadata": {},
   "outputs": [],
   "source": [
    "def get_loader_l96():\n",
    "    return get_loader(\n",
    "        train_file=\"lorenz96_on0.05_train.npy\", test_file=\"lorenz96_test.npy\", l63=False\n",
    "    )"
   ]
  }
 ],
 "metadata": {
  "kernelspec": {
   "display_name": "Python 3 (ipykernel)",
   "language": "python",
   "name": "python3"
  }
 },
 "nbformat": 4,
 "nbformat_minor": 5
}
