{
 "cells": [
  {
   "cell_type": "code",
   "execution_count": 27,
   "id": "041d2054",
   "metadata": {},
   "outputs": [],
   "source": [
    "from torchdyn.core import NeuralODE\n",
    "import numpy as np\n",
    "import matplotlib.pyplot as plt\n",
    "from mpl_toolkits.mplot3d import Axes3D\n",
    "import torch\n",
    "import torch.utils.data as data\n",
    "import torch.nn as nn\n",
    "import pytorch_lightning as pl"
   ]
  },
  {
   "cell_type": "code",
   "execution_count": 28,
   "id": "b4d0d79e",
   "metadata": {},
   "outputs": [],
   "source": [
    "device = torch.device(\"cuda:0\")\n",
    "torch.set_default_dtype(torch.float64)\n",
    "torch.set_float32_matmul_precision(\"high\")"
   ]
  },
  {
   "cell_type": "code",
   "execution_count": 29,
   "id": "832df723",
   "metadata": {},
   "outputs": [],
   "source": [
    "def plot_l63(data, n, style=\"scatter\"):\n",
    "    x, y, z = data[:n, :].T\n",
    "    fig = plt.figure(figsize=(10, 10))\n",
    "    ax = fig.add_subplot(111, projection=\"3d\")\n",
    "    if style == \"scatter\":\n",
    "        ax.scatter(x, y, z, s=1)\n",
    "    elif style == \"line\":\n",
    "        ax.plot(x, y, z, lw=0.3)\n",
    "    else:\n",
    "        raise ValueError\n",
    "    ax.set_xlabel(\"X\")\n",
    "    ax.set_ylabel(\"Y\")\n",
    "    ax.set_zlabel(\"Z\")\n",
    "    ax.set_title(f\"L63, {n} points\")\n",
    "    plt.show()"
   ]
  },
  {
   "cell_type": "code",
   "execution_count": 30,
   "id": "478d7506",
   "metadata": {},
   "outputs": [],
   "source": [
    "def get_loader(\n",
    "    train_file: str,\n",
    "    test_file: str,\n",
    "    plot: bool = False,\n",
    "    name: str = \"\",\n",
    "):\n",
    "    train = np.load(train_file)\n",
    "    test = np.load(test_file)\n",
    "    print(f\"raw data shapes -- train: {train.shape}, test: {test.shape}\")\n",
    "    X = torch.Tensor(train[:-1, :])\n",
    "    Y = torch.Tensor(train[1:, :])\n",
    "    print(f\"train shapes -- x: {X.shape}, y: {Y.shape}\")\n",
    "    if plot and name == \"l63\":\n",
    "        plot_l63(train, n=1000)\n",
    "        plot_l63(train, n=-1, style=\"line\")\n",
    "    train = data.TensorDataset(X, Y)\n",
    "    trainloader = data.DataLoader(\n",
    "        train, batch_size=len(X), shuffle=True, num_workers=16\n",
    "    )\n",
    "    return trainloader"
   ]
  },
  {
   "cell_type": "code",
   "execution_count": 31,
   "id": "912aa5ff",
   "metadata": {},
   "outputs": [],
   "source": [
    "def get_loader_l63():\n",
    "    return get_loader(\n",
    "        train_file=\"lorenz63_on0.05_train.npy\",\n",
    "        test_file=\"lorenz63_test.npy\",\n",
    "    )"
   ]
  },
  {
   "cell_type": "code",
   "execution_count": 32,
   "id": "8f63eb45-d0ae-4258-98d5-02c9850a6b1e",
   "metadata": {},
   "outputs": [],
   "source": [
    "def get_loader_l96():\n",
    "    return get_loader(\n",
    "        train_file=\"lorenz96_on0.05_train.npy\",\n",
    "        test_file=\"lorenz96_test.npy\",\n",
    "    )"
   ]
  },
  {
   "cell_type": "code",
   "execution_count": 51,
   "id": "f22e9bf5",
   "metadata": {},
   "outputs": [],
   "source": [
    "class Learner_l63(pl.LightningModule):\n",
    "    def __init__(self, t_span: torch.Tensor, model: nn.Module):\n",
    "        super().__init__()\n",
    "        self.model, self.t_span = model, t_span\n",
    "        self.trainloader = get_loader_l63()\n",
    "\n",
    "    def forward(self, x):\n",
    "        return self.model(x)\n",
    "\n",
    "    def training_step(self, batch, batch_idx):\n",
    "        x, y = batch\n",
    "        t_eval, y_hat = self.model(x, self.t_span)\n",
    "        y_hat = y_hat[-1]  # select last point of solution trajectory\n",
    "        loss = nn.MSELoss()(y_hat, y)\n",
    "        print(loss)\n",
    "        return {\"loss\": loss}\n",
    "\n",
    "    def configure_optimizers(self):\n",
    "        return torch.optim.Adam(self.model.parameters(), lr=3e-4)\n",
    "\n",
    "    def train_dataloader(self):\n",
    "        return self.trainloader"
   ]
  },
  {
   "cell_type": "code",
   "execution_count": 52,
   "id": "dfba2ae1",
   "metadata": {},
   "outputs": [],
   "source": [
    "def get_model_l63():\n",
    "    layers = [\n",
    "        nn.Linear(3, 64),\n",
    "        nn.ReLU(),\n",
    "        nn.Linear(64, 64),\n",
    "        nn.ReLU(),\n",
    "        nn.Linear(64, 3),\n",
    "    ]\n",
    "    f = nn.Sequential(*layers)\n",
    "    model = NeuralODE(f)\n",
    "    t_span = torch.linspace(0, 1, 2)  # [0,1]\n",
    "    return t_span, model"
   ]
  },
  {
   "cell_type": "code",
   "execution_count": 53,
   "id": "c06cf67d",
   "metadata": {},
   "outputs": [
    {
     "name": "stderr",
     "output_type": "stream",
     "text": [
      "GPU available: True (cuda), used: True\n",
      "TPU available: False, using: 0 TPU cores\n",
      "HPU available: False, using: 0 HPUs\n",
      "LOCAL_RANK: 0 - CUDA_VISIBLE_DEVICES: [0]\n",
      "\n",
      "  | Name  | Type      | Params | Mode \n",
      "--------------------------------------------\n",
      "0 | model | NeuralODE | 4.6 K  | train\n",
      "--------------------------------------------\n",
      "4.6 K     Trainable params\n",
      "0         Non-trainable params\n",
      "4.6 K     Total params\n",
      "0.018     Total estimated model params size (MB)\n",
      "10        Modules in train mode\n",
      "0         Modules in eval mode\n"
     ]
    },
    {
     "name": "stdout",
     "output_type": "stream",
     "text": [
      "Your vector field callable (nn.Module) should have both time `t` and state `x` as arguments, we've wrapped it for you.\n",
      "raw data shapes -- train: (100000, 3), test: (100000, 3)\n",
      "train shapes -- x: torch.Size([99999, 3]), y: torch.Size([99999, 3])\n"
     ]
    },
    {
     "data": {
      "application/vnd.jupyter.widget-view+json": {
       "model_id": "458b07c8b532454483d30bf67519596e",
       "version_major": 2,
       "version_minor": 0
      },
      "text/plain": [
       "Training: |                                                                                                   …"
      ]
     },
     "metadata": {},
     "output_type": "display_data"
    },
    {
     "name": "stdout",
     "output_type": "stream",
     "text": [
      "tensor(0.0154, device='cuda:0', grad_fn=<MseLossBackward0>)\n",
      "tensor(0.0146, device='cuda:0', grad_fn=<MseLossBackward0>)\n",
      "tensor(0.0139, device='cuda:0', grad_fn=<MseLossBackward0>)\n",
      "tensor(0.0133, device='cuda:0', grad_fn=<MseLossBackward0>)\n"
     ]
    },
    {
     "name": "stderr",
     "output_type": "stream",
     "text": [
      "`Trainer.fit` stopped: `max_epochs=5` reached.\n"
     ]
    },
    {
     "name": "stdout",
     "output_type": "stream",
     "text": [
      "tensor(0.0127, device='cuda:0', grad_fn=<MseLossBackward0>)\n"
     ]
    }
   ],
   "source": [
    "learn = Learner_l63(*get_model_l63())\n",
    "trainer = pl.Trainer(max_epochs=5, accelerator=\"gpu\", devices=\"auto\")\n",
    "trainer.fit(learn)"
   ]
  },
  {
   "cell_type": "code",
   "execution_count": 57,
   "id": "6743caad-d322-4118-a33d-a05166fb5dbe",
   "metadata": {
    "scrolled": true
   },
   "outputs": [
    {
     "data": {
      "text/plain": [
       "tensor([0.9619, 0.9879, 0.9685], grad_fn=<SliceBackward0>)"
      ]
     },
     "execution_count": 57,
     "metadata": {},
     "output_type": "execute_result"
    }
   ],
   "source": [
    "learn(torch.Tensor([1,1,1]))[1][-1,:]"
   ]
  },
  {
   "cell_type": "code",
   "execution_count": 23,
   "id": "ca0c8b96-2c77-408a-85dc-14f5aeb09de6",
   "metadata": {},
   "outputs": [
    {
     "data": {
      "text/plain": [
       "Neural ODE:\n",
       "\t- order: 1        \n",
       "\t- solver: Tsitouras45()\n",
       "\t- adjoint solver: Tsitouras45()        \n",
       "\t- tolerances: relative 0.001 absolute 0.001        \n",
       "\t- adjoint tolerances: relative 0.0001 absolute 0.0001        \n",
       "\t- num_parameters: 4611        \n",
       "\t- NFE: 70.0"
      ]
     },
     "execution_count": 23,
     "metadata": {},
     "output_type": "execute_result"
    }
   ],
   "source": [
    "def iterate(model)"
   ]
  },
  {
   "cell_type": "code",
   "execution_count": 47,
   "id": "6c9f7f42-3ab5-4dfe-af05-15e1d29d7a76",
   "metadata": {},
   "outputs": [
    {
     "data": {
      "text/plain": [
       "device(type='cpu')"
      ]
     },
     "execution_count": 47,
     "metadata": {},
     "output_type": "execute_result"
    }
   ],
   "source": [
    "learn.device"
   ]
  },
  {
   "cell_type": "code",
   "execution_count": null,
   "id": "62e5c6d2-d5d0-4486-a598-85ab68bcff91",
   "metadata": {},
   "outputs": [],
   "source": []
  }
 ],
 "metadata": {
  "jupytext": {
   "formats": "ipynb,py:percent"
  },
  "kernelspec": {
   "display_name": "Python 3 (ipykernel)",
   "language": "python",
   "name": "python3"
  },
  "language_info": {
   "codemirror_mode": {
    "name": "ipython",
    "version": 3
   },
   "file_extension": ".py",
   "mimetype": "text/x-python",
   "name": "python",
   "nbconvert_exporter": "python",
   "pygments_lexer": "ipython3",
   "version": "3.12.3"
  }
 },
 "nbformat": 4,
 "nbformat_minor": 5
}
